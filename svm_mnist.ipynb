{
  "nbformat": 4,
  "nbformat_minor": 0,
  "metadata": {
    "colab": {
      "provenance": [],
      "gpuType": "T4"
    },
    "kernelspec": {
      "name": "python3",
      "display_name": "Python 3"
    },
    "language_info": {
      "name": "python"
    }
  },
  "cells": [
    {
      "cell_type": "code",
      "source": [
        "from sklearn import datasets\n",
        "from sklearn.model_selection import train_test_split\n",
        "from sklearn.svm import SVC\n",
        "\n",
        "import matplotlib.pyplot as plt\n",
        "\n",
        "# Function to print accuracy\n",
        "def print_accuracy(train_accuracy, test_accuracy):\n",
        "    print(\"Training Accuracy: {:.2f}%\".format(train_accuracy * 100))\n",
        "    print(\"Test Accuracy: {:.2f}%\".format(test_accuracy * 100))\n",
        "\n",
        "# Function to plot images\n",
        "def plot_images(images, labels):\n",
        "    fig, axes = plt.subplots(2, 5, figsize=(10, 4))\n",
        "    for i, ax in enumerate(axes.flat):\n",
        "        ax.imshow(images[i].reshape(8, 8), cmap='gray')\n",
        "        ax.set_xticks([])\n",
        "        ax.set_yticks([])\n",
        "        ax.set_title(\"Label: {}\".format(labels[i]))\n",
        "    plt.show()\n",
        "\n",
        "# Load the MNIST dataset\n",
        "digits = datasets.load_digits()\n",
        "\n",
        "# Extract samples for digits 2, 3, 8, and 9\n",
        "X = digits.data[(digits.target == 2) | (digits.target == 3) | (digits.target == 8) | (digits.target == 9)]\n",
        "y = digits.target[(digits.target == 2) | (digits.target == 3) | (digits.target == 8) | (digits.target == 9)]\n",
        "\n",
        "# Flatten the grayscale images into vectors\n",
        "X = X.reshape(X.shape[0], -1)\n",
        "\n",
        "# Split the dataset into training and test sets\n",
        "X_train, X_test, y_train, y_test = train_test_split(X, y, test_size=0.2, random_state=42)\n",
        "\n",
        "# Train a 4-class SVM with linear kernel\n",
        "svm_linear = SVC(kernel='linear')\n",
        "svm_linear.fit(X_train, y_train)\n",
        "\n",
        "# Evaluate the training and test accuracy\n",
        "train_accuracy_linear = svm_linear.score(X_train, y_train)\n",
        "test_accuracy_linear = svm_linear.score(X_test, y_test)\n",
        "\n",
        "# Print accuracy\n",
        "print(\"Linear Kernel:\")\n",
        "print_accuracy(train_accuracy_linear, test_accuracy_linear)\n",
        "\n",
        "# Train a 4-class SVM with non-linear kernel\n",
        "svm_nonlinear = SVC(kernel='rbf')\n",
        "svm_nonlinear.fit(X_train, y_train)\n",
        "\n",
        "# Evaluate the training and test accuracy\n",
        "train_accuracy_nonlinear = svm_nonlinear.score(X_train, y_train)\n",
        "test_accuracy_nonlinear = svm_nonlinear.score(X_test, y_test)\n",
        "\n",
        "# Print accuracy\n",
        "print(\"Non-linear Kernel:\")\n",
        "print_accuracy(train_accuracy_nonlinear, test_accuracy_nonlinear)\n",
        "\n",
        "# Find the support vectors and inspect the images\n",
        "support_vectors = svm_nonlinear.support_vectors_\n",
        "\n",
        "# Plot support vectors and other images in the same class\n",
        "plot_images(support_vectors, y_train)\n"
      ],
      "metadata": {
        "colab": {
          "base_uri": "https://localhost:8080/",
          "height": 462
        },
        "id": "wscsMWIp_SXP",
        "outputId": "1a9a1c0f-b218-4774-c70f-4a3f20a3e2c1"
      },
      "execution_count": null,
      "outputs": [
        {
          "output_type": "stream",
          "name": "stdout",
          "text": [
            "Linear Kernel:\n",
            "Training Accuracy: 100.00%\n",
            "Test Accuracy: 98.60%\n",
            "Non-linear Kernel:\n",
            "Training Accuracy: 99.65%\n",
            "Test Accuracy: 100.00%\n"
          ]
        },
        {
          "output_type": "display_data",
          "data": {
            "text/plain": [
              "<Figure size 1000x400 with 10 Axes>"
            ],
            "image/png": "[encoded data removed]"
          },
          "metadata": {}
        }
      ]
    },
    {
      "cell_type": "code",
      "source": [
        "from sklearn import datasets\n",
        "from sklearn.model_selection import train_test_split\n",
        "from sklearn.svm import SVC\n",
        "from sklearn.model_selection import GridSearchCV\n",
        "\n",
        "import matplotlib.pyplot as plt\n",
        "\n",
        "# Function to print accuracy\n",
        "def print_accuracy(train_accuracy, test_accuracy):\n",
        "    print(\"Training Accuracy: {:.2f}%\".format(train_accuracy * 100))\n",
        "    print(\"Test Accuracy: {:.2f}%\".format(test_accuracy * 100))\n",
        "\n",
        "# Function to plot images\n",
        "def plot_images(images, labels):\n",
        "    fig, axes = plt.subplots(2, 5, figsize=(10, 4))\n",
        "    for i, ax in enumerate(axes.flat):\n",
        "        ax.imshow(images[i].reshape(8, 8), cmap='gray')\n",
        "        ax.set_xticks([])\n",
        "        ax.set_yticks([])\n",
        "        ax.set_title(\"Label: {}\".format(labels[i]))\n",
        "    plt.show()\n",
        "\n",
        "# Load the MNIST dataset\n",
        "digits = datasets.load_digits()\n",
        "\n",
        "# Extract samples for digits 2, 3, 8, and 9\n",
        "X = digits.data[(digits.target == 2) | (digits.target == 3) | (digits.target == 8) | (digits.target == 9)]\n",
        "y = digits.target[(digits.target == 2) | (digits.target == 3) | (digits.target == 8) | (digits.target == 9)]\n",
        "\n",
        "# Flatten the grayscale images into vectors\n",
        "X = X.reshape(X.shape[0], -1)\n",
        "\n",
        "# Split the dataset into training and test sets\n",
        "X_train, X_test, y_train, y_test = train_test_split(X, y, test_size=0.2, random_state=42)\n",
        "\n",
        "##\n",
        "# Train a 4-class SVM with linear kernel\n",
        "svm_linear = SVC(kernel='linear')\n",
        "svm_linear.fit(X_train, y_train)\n",
        "\n",
        "# Evaluate the training and test accuracy\n",
        "train_accuracy_linear = svm_linear.score(X_train, y_train)\n",
        "test_accuracy_linear = svm_linear.score(X_test, y_test)\n",
        "\n",
        "# Print accuracy\n",
        "print(\"Linear Kernel:\")\n",
        "print_accuracy(train_accuracy_linear, test_accuracy_linear)\n",
        "\n",
        "# Train a 4-class SVM with non-linear kernel and hyperparameter tuning\n",
        "svm_nonlinear = SVC(kernel='rbf')\n",
        "parameters = {'C': [0.1, 1, 10], 'gamma': [0.1, 1, 10]}\n",
        "svm_nonlinear_tuned = GridSearchCV(svm_nonlinear, parameters, cv=5)\n",
        "svm_nonlinear_tuned.fit(X_train, y_train)\n",
        "\n",
        "# Evaluate the training and test accuracy\n",
        "train_accuracy_nonlinear = svm_nonlinear_tuned.score(X_train, y_train)\n",
        "test_accuracy_nonlinear = svm_nonlinear_tuned.score(X_test, y_test)\n",
        "\n",
        "# Print accuracy\n",
        "print(\"Non-linear Kernel (Tuned):\")\n",
        "print_accuracy(train_accuracy_nonlinear, test_accuracy_nonlinear)\n",
        "\n",
        "# Find the support vectors and inspect the images\n",
        "support_vectors = svm_nonlinear_tuned.best_estimator_.support_vectors_\n",
        "plot_images(support_vectors, y_train)\n",
        "\n",
        "# # Evaluate the training and test accuracy\n",
        "# train_accuracy_nonlinear = svm_nonlinear.score(X_train, y_train)\n",
        "# test_accuracy_nonlinear = svm_nonlinear.score(X_test, y_test)\n",
        "\n",
        "# # Print accuracy\n",
        "# print(\"Non-linear Kernel:\")\n",
        "# print_accuracy(train_accuracy_nonlinear, test_accuracy_nonlinear)\n",
        "\n",
        "# Find the support vectors and inspect the images\n",
        "# support_vectors = svm_nonlinear.support_vectors_\n",
        "\n",
        "# Plot support vectors and other images in the same class\n",
        "plot_images(support_vectors, y_train)\n"
      ],
      "metadata": {
        "colab": {
          "base_uri": "https://localhost:8080/",
          "height": 803
        },
        "id": "QzLKfoF5Bbkj",
        "outputId": "66fbd059-7a0e-4b9b-f4c2-a1382ca65c0d"
      },
      "execution_count": null,
      "outputs": [
        {
          "output_type": "stream",
          "name": "stdout",
          "text": [
            "Linear Kernel:\n",
            "Training Accuracy: 100.00%\n",
            "Test Accuracy: 98.60%\n",
            "Non-linear Kernel (Tuned):\n",
            "Training Accuracy: 25.22%\n",
            "Test Accuracy: 25.17%\n"
          ]
        },
        {
          "output_type": "display_data",
          "data": {
            "text/plain": [
              "<Figure size 1000x400 with 10 Axes>"
            ],
            "image/png": "[encoded data removed]"
          },
          "metadata": {}
        },
        {
          "output_type": "display_data",
          "data": {
            "text/plain": [
              "<Figure size 1000x400 with 10 Axes>"
            ],
            "image/png": "[encoded data removed]"
          },
          "metadata": {}
        }
      ]
    },
    {
      "cell_type": "code",
      "source": [
        "import numpy as np\n",
        "import matplotlib.pyplot as plt\n",
        "from sklearn.datasets import fetch_openml\n",
        "from sklearn.model_selection import train_test_split, GridSearchCV, RandomizedSearchCV\n",
        "from sklearn.preprocessing import StandardScaler\n",
        "from sklearn.svm import SVC, LinearSVC\n",
        "from sklearn.linear_model import SGDClassifier\n",
        "from sklearn.metrics import accuracy_score\n",
        "\n",
        "# Load the MNIST dataset\n",
        "mnist = fetch_openml('mnist_784', version=1)\n",
        "X, y = mnist['data'], mnist['target']\n",
        "\n",
        "# Filter the dataset for digits 2, 3, 8, and 9\n",
        "digits = [2, 3, 8, 9]\n",
        "mask = np.isin(y.astype(int), digits)\n",
        "X, y = X[mask], y[mask].astype(int)\n",
        "\n",
        "# Normalize the data\n",
        "X = X / 255.0\n",
        "\n",
        "# Split the dataset into training and test sets\n",
        "X_train, X_test, y_train, y_test = train_test_split(X, y, test_size=0.2, random_state=42, stratify=y)\n",
        "\n",
        "# Train a 4-class SVM using LinearSVC\n",
        "param_grid_linear_svc = {'C': [0.1, 1, 10, 100]}\n",
        "grid_search_linear_svc = GridSearchCV(LinearSVC(), param_grid_linear_svc, cv=5, n_jobs=-1, verbose=3)\n",
        "grid_search_linear_svc.fit(X_train, y_train)\n",
        "best_linear_svc = grid_search_linear_svc.best_estimator_\n",
        "\n",
        "train_accuracy_linear_svc = best_linear_svc.score(X_train, y_train)\n",
        "test_accuracy_linear_svc = best_linear_svc.score(X_test, y_test)\n",
        "\n",
        "print(f'Best Linear SVC Parameters: {grid_search_linear_svc.best_params_}')\n",
        "print(f'Training Accuracy: {train_accuracy_linear_svc}')\n",
        "print(f'Test Accuracy: {test_accuracy_linear_svc}')"
      ],
      "metadata": {
        "colab": {
          "base_uri": "https://localhost:8080/"
        },
        "id": "HSyd7aN2MmJD",
        "outputId": "589bb5a4-448f-46de-e1cc-bf6de50a97ae"
      },
      "execution_count": null,
      "outputs": [
        {
          "output_type": "stream",
          "name": "stderr",
          "text": [
            "/usr/local/lib/python3.10/dist-packages/sklearn/datasets/_openml.py:968: FutureWarning: The default value of `parser` will change from `'liac-arff'` to `'auto'` in 1.4. You can set `parser='auto'` to silence this warning. Therefore, an `ImportError` will be raised from 1.4 if the dataset is dense and pandas is not installed. Note that the pandas parser may return different data types. See the Notes Section in fetch_openml's API doc for details.\n",
            "  warn(\n"
          ]
        },
        {
          "output_type": "stream",
          "name": "stdout",
          "text": [
            "Fitting 5 folds for each of 4 candidates, totalling 20 fits\n",
            "Best Linear SVC Parameters: {'C': 0.1}\n",
            "Training Accuracy: 0.9540996820563342\n",
            "Test Accuracy: 0.9364141142754792\n"
          ]
        }
      ]
    },
    {
      "cell_type": "code",
      "source": [
        "# Use a smaller subset of the training data for hyperparameter tuning\n",
        "X_train_subset, _, y_train_subset, _ = train_test_split(X_train, y_train, train_size=0.1, random_state=42, stratify=y_train)\n",
        "\n",
        "# Train a 4-class SVM using an RBF kernel\n",
        "rbf_svm = SVC(kernel='rbf', cache_size=1000)\n",
        "param_dist = {'C': [0.1, 1, 10], 'gamma': [0.001, 0.01, 0.1]}\n",
        "random_search = RandomizedSearchCV(rbf_svm, param_distributions=param_dist, n_iter=10, cv=3, random_state=42, n_jobs=-1, verbose=3)\n",
        "random_search.fit(X_train_subset, y_train_subset)\n",
        "best_rbf_svm = random_search.best_estimator_\n",
        "\n",
        "# Train the best model on the full training dataset\n",
        "best_rbf_svm.fit(X_train, y_train)\n",
        "\n",
        "# Evaluate the model\n",
        "train_accuracy_rbf = best_rbf_svm.score(X_train, y_train)\n",
        "test_accuracy_rbf = best_rbf_svm.score(X_test, y_test)\n",
        "\n",
        "print(f'Best RBF SVM Parameters: {random_search.best_params_}')\n",
        "print(f'Training Accuracy: {train_accuracy_rbf}')\n",
        "print(f'Test Accuracy: {test_accuracy_rbf}')"
      ],
      "metadata": {
        "colab": {
          "base_uri": "https://localhost:8080/"
        },
        "id": "mi8zmoLAOe6H",
        "outputId": "2c216457-70bc-46f1-c3d1-bea84fb9c2c9"
      },
      "execution_count": null,
      "outputs": [
        {
          "output_type": "stream",
          "name": "stdout",
          "text": [
            "Fitting 3 folds for each of 9 candidates, totalling 27 fits\n"
          ]
        },
        {
          "output_type": "stream",
          "name": "stderr",
          "text": [
            "/usr/local/lib/python3.10/dist-packages/sklearn/model_selection/_search.py:305: UserWarning: The total space of parameters 9 is smaller than n_iter=10. Running 9 iterations. For exhaustive searches, use GridSearchCV.\n",
            "  warnings.warn(\n"
          ]
        },
        {
          "output_type": "stream",
          "name": "stdout",
          "text": [
            "Best RBF SVM Parameters: {'gamma': 0.01, 'C': 10}\n",
            "Training Accuracy: 0.9999552192020061\n",
            "Test Accuracy: 0.9892530897367007\n"
          ]
        }
      ]
    },
    {
      "cell_type": "code",
      "source": [
        "# Inspect the support vectors\n",
        "support_vectors = best_rbf_svm.support_\n",
        "\n",
        "# Plot some of the support vectors\n",
        "plt.figure(figsize=(10, 10))\n",
        "for i, index in enumerate(support_vectors[:16]):\n",
        "    plt.subplot(4, 4, i + 1)\n",
        "    plt.imshow(X_train[index].reshape(28, 28), cmap='gray')\n",
        "    plt.axis('off')\n",
        "plt.show()"
      ],
      "metadata": {
        "id": "3SW8Rrg9OgMh"
      },
      "execution_count": null,
      "outputs": []
    },
    {
      "cell_type": "code",
      "source": [
        "import numpy as np\n",
        "import matplotlib.pyplot as plt\n",
        "from sklearn.datasets import fetch_openml\n",
        "from sklearn.model_selection import train_test_split, RandomizedSearchCV\n",
        "from sklearn.preprocessing import StandardScaler\n",
        "from sklearn.svm import SVC\n",
        "from sklearn.metrics import accuracy_score\n",
        "\n",
        "# Load the MNIST dataset\n",
        "mnist = fetch_openml('mnist_784', version=1)\n",
        "X, y = mnist.data, mnist.target\n",
        "\n",
        "# Filter the dataset for digits 2, 3, 8, and 9\n",
        "digits = [2, 3, 8, 9]\n",
        "mask = np.isin(y.astype(int), digits)\n",
        "X, y = X[mask], y[mask].astype(int)\n",
        "\n",
        "# Normalize the data\n",
        "X = X / 255.0\n",
        "\n",
        "# Split the dataset into training and test sets\n",
        "X_train, X_test, y_train, y_test = train_test_split(X, y, test_size=0.2, random_state=42, stratify=y)\n",
        "\n",
        "# Use a smaller subset of the training data for hyperparameter tuning\n",
        "X_train_subset, _, y_train_subset, _ = train_test_split(X_train, y_train, train_size=0.1, random_state=42, stratify=y_train)\n",
        "\n",
        "# Train a 4-class SVM using an RBF kernel\n",
        "rbf_svm = SVC(kernel='rbf', cache_size=1000)\n",
        "param_dist = {'C': [0.1, 1, 10], 'gamma': [0.001, 0.01, 0.1]}\n",
        "random_search = RandomizedSearchCV(rbf_svm, param_distributions=param_dist, n_iter=10, cv=3, random_state=42, n_jobs=-1, verbose=3)\n",
        "random_search.fit(X_train_subset, y_train_subset)\n",
        "best_rbf_svm = random_search.best_estimator_\n",
        "\n",
        "# Train the best model on the full training dataset\n",
        "best_rbf_svm.fit(X_train, y_train)\n",
        "\n",
        "# Evaluate the model\n",
        "train_accuracy_rbf = best_rbf_svm.score(X_train, y_train)\n",
        "test_accuracy_rbf = best_rbf_svm.score(X_test, y_test)\n",
        "\n",
        "print(f'Best RBF SVM Parameters: {random_search.best_params_}')\n",
        "print(f'Training Accuracy: {train_accuracy_rbf}')\n",
        "print(f'Test Accuracy: {test_accuracy_rbf}')\n",
        "\n",
        "# Inspect the support vectors\n",
        "support_vectors = best_rbf_svm.support_\n",
        "\n",
        "# Plot some of the support vectors\n",
        "plt.figure(figsize=(10, 10))\n",
        "for i, index in enumerate(support_vectors[:16]):\n",
        "    plt.subplot(4, 4, i + 1)\n",
        "    plt.imshow(X_train[index].reshape(28, 28), cmap='gray')\n",
        "    plt.axis('off')\n",
        "plt.show()\n"
      ],
      "metadata": {
        "colab": {
          "base_uri": "https://localhost:8080/",
          "height": 853
        },
        "id": "IVXLP1k9l8Ba",
        "outputId": "9b433c34-8d22-446a-8271-e695c583611b"
      },
      "execution_count": null,
      "outputs": [
        {
          "output_type": "stream",
          "name": "stderr",
          "text": [
            "/usr/local/lib/python3.10/dist-packages/sklearn/datasets/_openml.py:968: FutureWarning: The default value of `parser` will change from `'liac-arff'` to `'auto'` in 1.4. You can set `parser='auto'` to silence this warning. Therefore, an `ImportError` will be raised from 1.4 if the dataset is dense and pandas is not installed. Note that the pandas parser may return different data types. See the Notes Section in fetch_openml's API doc for details.\n",
            "  warn(\n"
          ]
        },
        {
          "output_type": "stream",
          "name": "stdout",
          "text": [
            "Fitting 3 folds for each of 9 candidates, totalling 27 fits\n"
          ]
        },
        {
          "output_type": "stream",
          "name": "stderr",
          "text": [
            "/usr/local/lib/python3.10/dist-packages/sklearn/model_selection/_search.py:305: UserWarning: The total space of parameters 9 is smaller than n_iter=10. Running 9 iterations. For exhaustive searches, use GridSearchCV.\n",
            "  warnings.warn(\n"
          ]
        },
        {
          "output_type": "stream",
          "name": "stdout",
          "text": [
            "Best RBF SVM Parameters: {'gamma': 0.01, 'C': 10}\n",
            "Training Accuracy: 0.9999552192020061\n",
            "Test Accuracy: 0.9892530897367007\n"
          ]
        },
        {
          "output_type": "error",
          "ename": "KeyError",
          "evalue": "0",
          "traceback": [
            "\u001b[0;31m---------------------------------------------------------------------------\u001b[0m",
            "\u001b[0;31mKeyError\u001b[0m                                  Traceback (most recent call last)",
            "\u001b[0;32m/usr/local/lib/python3.10/dist-packages/pandas/core/indexes/base.py\u001b[0m in \u001b[0;36mget_loc\u001b[0;34m(self, key)\u001b[0m\n\u001b[1;32m   3652\u001b[0m         \u001b[0;32mtry\u001b[0m\u001b[0;34m:\u001b[0m\u001b[0;34m\u001b[0m\u001b[0;34m\u001b[0m\u001b[0m\n\u001b[0;32m-> 3653\u001b[0;31m             \u001b[0;32mreturn\u001b[0m \u001b[0mself\u001b[0m\u001b[0;34m.\u001b[0m\u001b[0m_engine\u001b[0m\u001b[0;34m.\u001b[0m\u001b[0mget_loc\u001b[0m\u001b[0;34m(\u001b[0m\u001b[0mcasted_key\u001b[0m\u001b[0;34m)\u001b[0m\u001b[0;34m\u001b[0m\u001b[0;34m\u001b[0m\u001b[0m\n\u001b[0m\u001b[1;32m   3654\u001b[0m         \u001b[0;32mexcept\u001b[0m \u001b[0mKeyError\u001b[0m \u001b[0;32mas\u001b[0m \u001b[0merr\u001b[0m\u001b[0;34m:\u001b[0m\u001b[0;34m\u001b[0m\u001b[0;34m\u001b[0m\u001b[0m\n",
            "\u001b[0;32m/usr/local/lib/python3.10/dist-packages/pandas/_libs/index.pyx\u001b[0m in \u001b[0;36mpandas._libs.index.IndexEngine.get_loc\u001b[0;34m()\u001b[0m\n",
            "\u001b[0;32m/usr/local/lib/python3.10/dist-packages/pandas/_libs/index.pyx\u001b[0m in \u001b[0;36mpandas._libs.index.IndexEngine.get_loc\u001b[0;34m()\u001b[0m\n",
            "\u001b[0;32mpandas/_libs/hashtable_class_helper.pxi\u001b[0m in \u001b[0;36mpandas._libs.hashtable.PyObjectHashTable.get_item\u001b[0;34m()\u001b[0m\n",
            "\u001b[0;32mpandas/_libs/hashtable_class_helper.pxi\u001b[0m in \u001b[0;36mpandas._libs.hashtable.PyObjectHashTable.get_item\u001b[0;34m()\u001b[0m\n",
            "\u001b[0;31mKeyError\u001b[0m: 0",
            "\nThe above exception was the direct cause of the following exception:\n",
            "\u001b[0;31mKeyError\u001b[0m                                  Traceback (most recent call last)",
            "\u001b[0;32m<ipython-input-1-640f31ed7541>\u001b[0m in \u001b[0;36m<cell line: 50>\u001b[0;34m()\u001b[0m\n\u001b[1;32m     50\u001b[0m \u001b[0;32mfor\u001b[0m \u001b[0mi\u001b[0m\u001b[0;34m,\u001b[0m \u001b[0mindex\u001b[0m \u001b[0;32min\u001b[0m \u001b[0menumerate\u001b[0m\u001b[0;34m(\u001b[0m\u001b[0msupport_vectors\u001b[0m\u001b[0;34m[\u001b[0m\u001b[0;34m:\u001b[0m\u001b[0;36m16\u001b[0m\u001b[0;34m]\u001b[0m\u001b[0;34m)\u001b[0m\u001b[0;34m:\u001b[0m\u001b[0;34m\u001b[0m\u001b[0;34m\u001b[0m\u001b[0m\n\u001b[1;32m     51\u001b[0m     \u001b[0mplt\u001b[0m\u001b[0;34m.\u001b[0m\u001b[0msubplot\u001b[0m\u001b[0;34m(\u001b[0m\u001b[0;36m4\u001b[0m\u001b[0;34m,\u001b[0m \u001b[0;36m4\u001b[0m\u001b[0;34m,\u001b[0m \u001b[0mi\u001b[0m \u001b[0;34m+\u001b[0m \u001b[0;36m1\u001b[0m\u001b[0;34m)\u001b[0m\u001b[0;34m\u001b[0m\u001b[0;34m\u001b[0m\u001b[0m\n\u001b[0;32m---> 52\u001b[0;31m     \u001b[0mplt\u001b[0m\u001b[0;34m.\u001b[0m\u001b[0mimshow\u001b[0m\u001b[0;34m(\u001b[0m\u001b[0mX_train\u001b[0m\u001b[0;34m[\u001b[0m\u001b[0mindex\u001b[0m\u001b[0;34m]\u001b[0m\u001b[0;34m.\u001b[0m\u001b[0mreshape\u001b[0m\u001b[0;34m(\u001b[0m\u001b[0;36m28\u001b[0m\u001b[0;34m,\u001b[0m \u001b[0;36m28\u001b[0m\u001b[0;34m)\u001b[0m\u001b[0;34m,\u001b[0m \u001b[0mcmap\u001b[0m\u001b[0;34m=\u001b[0m\u001b[0;34m'gray'\u001b[0m\u001b[0;34m)\u001b[0m\u001b[0;34m\u001b[0m\u001b[0;34m\u001b[0m\u001b[0m\n\u001b[0m\u001b[1;32m     53\u001b[0m     \u001b[0mplt\u001b[0m\u001b[0;34m.\u001b[0m\u001b[0maxis\u001b[0m\u001b[0;34m(\u001b[0m\u001b[0;34m'off'\u001b[0m\u001b[0;34m)\u001b[0m\u001b[0;34m\u001b[0m\u001b[0;34m\u001b[0m\u001b[0m\n\u001b[1;32m     54\u001b[0m \u001b[0mplt\u001b[0m\u001b[0;34m.\u001b[0m\u001b[0mshow\u001b[0m\u001b[0;34m(\u001b[0m\u001b[0;34m)\u001b[0m\u001b[0;34m\u001b[0m\u001b[0;34m\u001b[0m\u001b[0m\n",
            "\u001b[0;32m/usr/local/lib/python3.10/dist-packages/pandas/core/frame.py\u001b[0m in \u001b[0;36m__getitem__\u001b[0;34m(self, key)\u001b[0m\n\u001b[1;32m   3759\u001b[0m             \u001b[0;32mif\u001b[0m \u001b[0mself\u001b[0m\u001b[0;34m.\u001b[0m\u001b[0mcolumns\u001b[0m\u001b[0;34m.\u001b[0m\u001b[0mnlevels\u001b[0m \u001b[0;34m>\u001b[0m \u001b[0;36m1\u001b[0m\u001b[0;34m:\u001b[0m\u001b[0;34m\u001b[0m\u001b[0;34m\u001b[0m\u001b[0m\n\u001b[1;32m   3760\u001b[0m                 \u001b[0;32mreturn\u001b[0m \u001b[0mself\u001b[0m\u001b[0;34m.\u001b[0m\u001b[0m_getitem_multilevel\u001b[0m\u001b[0;34m(\u001b[0m\u001b[0mkey\u001b[0m\u001b[0;34m)\u001b[0m\u001b[0;34m\u001b[0m\u001b[0;34m\u001b[0m\u001b[0m\n\u001b[0;32m-> 3761\u001b[0;31m             \u001b[0mindexer\u001b[0m \u001b[0;34m=\u001b[0m \u001b[0mself\u001b[0m\u001b[0;34m.\u001b[0m\u001b[0mcolumns\u001b[0m\u001b[0;34m.\u001b[0m\u001b[0mget_loc\u001b[0m\u001b[0;34m(\u001b[0m\u001b[0mkey\u001b[0m\u001b[0;34m)\u001b[0m\u001b[0;34m\u001b[0m\u001b[0;34m\u001b[0m\u001b[0m\n\u001b[0m\u001b[1;32m   3762\u001b[0m             \u001b[0;32mif\u001b[0m \u001b[0mis_integer\u001b[0m\u001b[0;34m(\u001b[0m\u001b[0mindexer\u001b[0m\u001b[0;34m)\u001b[0m\u001b[0;34m:\u001b[0m\u001b[0;34m\u001b[0m\u001b[0;34m\u001b[0m\u001b[0m\n\u001b[1;32m   3763\u001b[0m                 \u001b[0mindexer\u001b[0m \u001b[0;34m=\u001b[0m \u001b[0;34m[\u001b[0m\u001b[0mindexer\u001b[0m\u001b[0;34m]\u001b[0m\u001b[0;34m\u001b[0m\u001b[0;34m\u001b[0m\u001b[0m\n",
            "\u001b[0;32m/usr/local/lib/python3.10/dist-packages/pandas/core/indexes/base.py\u001b[0m in \u001b[0;36mget_loc\u001b[0;34m(self, key)\u001b[0m\n\u001b[1;32m   3653\u001b[0m             \u001b[0;32mreturn\u001b[0m \u001b[0mself\u001b[0m\u001b[0;34m.\u001b[0m\u001b[0m_engine\u001b[0m\u001b[0;34m.\u001b[0m\u001b[0mget_loc\u001b[0m\u001b[0;34m(\u001b[0m\u001b[0mcasted_key\u001b[0m\u001b[0;34m)\u001b[0m\u001b[0;34m\u001b[0m\u001b[0;34m\u001b[0m\u001b[0m\n\u001b[1;32m   3654\u001b[0m         \u001b[0;32mexcept\u001b[0m \u001b[0mKeyError\u001b[0m \u001b[0;32mas\u001b[0m \u001b[0merr\u001b[0m\u001b[0;34m:\u001b[0m\u001b[0;34m\u001b[0m\u001b[0;34m\u001b[0m\u001b[0m\n\u001b[0;32m-> 3655\u001b[0;31m             \u001b[0;32mraise\u001b[0m \u001b[0mKeyError\u001b[0m\u001b[0;34m(\u001b[0m\u001b[0mkey\u001b[0m\u001b[0;34m)\u001b[0m \u001b[0;32mfrom\u001b[0m \u001b[0merr\u001b[0m\u001b[0;34m\u001b[0m\u001b[0;34m\u001b[0m\u001b[0m\n\u001b[0m\u001b[1;32m   3656\u001b[0m         \u001b[0;32mexcept\u001b[0m \u001b[0mTypeError\u001b[0m\u001b[0;34m:\u001b[0m\u001b[0;34m\u001b[0m\u001b[0;34m\u001b[0m\u001b[0m\n\u001b[1;32m   3657\u001b[0m             \u001b[0;31m# If we have a listlike key, _check_indexing_error will raise\u001b[0m\u001b[0;34m\u001b[0m\u001b[0;34m\u001b[0m\u001b[0m\n",
            "\u001b[0;31mKeyError\u001b[0m: 0"
          ]
        },
        {
          "output_type": "display_data",
          "data": {
            "text/plain": [
              "<Figure size 1000x1000 with 1 Axes>"
            ],
            "image/png": "[encoded data removed]"
          },
          "metadata": {}
        }
      ]
    },
    {
      "cell_type": "code",
      "source": [
        "import numpy as np\n",
        "import matplotlib.pyplot as plt\n",
        "from sklearn.datasets import fetch_openml\n",
        "from sklearn.model_selection import train_test_split, GridSearchCV, RandomizedSearchCV\n",
        "from sklearn.preprocessing import StandardScaler\n",
        "from sklearn.svm import SVC, LinearSVC\n",
        "from sklearn.linear_model import SGDClassifier\n",
        "from sklearn.metrics import accuracy_score\n",
        "\n",
        "# Load the MNIST dataset\n",
        "mnist = fetch_openml('mnist_784', version=1)\n",
        "X, y = mnist.data, mnist.target\n",
        "\n",
        "# Filter the dataset for digits 2, 3, 8, and 9\n",
        "digits = [2, 3, 8, 9]\n",
        "mask = np.isin(y.astype(int), digits)\n",
        "X, y = X[mask], y[mask].astype(int)\n",
        "\n",
        "# Normalize the data\n",
        "X = X / 255.0\n",
        "\n",
        "# Split the dataset into training and test sets\n",
        "X_train, X_test, y_train, y_test = train_test_split(X, y, test_size=0.2, random_state=42, stratify=y)\n",
        "\n",
        "# Train a 4-class SVM using LinearSVC\n",
        "param_grid_linear_svc = {'C': [0.1, 1, 10, 100]}\n",
        "grid_search_linear_svc = GridSearchCV(LinearSVC(), param_grid_linear_svc, cv=5, n_jobs=-1, verbose=3)\n",
        "grid_search_linear_svc.fit(X_train, y_train)\n",
        "best_linear_svc = grid_search_linear_svc.best_estimator_\n",
        "\n",
        "train_accuracy_linear_svc = best_linear_svc.score(X_train, y_train)\n",
        "test_accuracy_linear_svc = best_linear_svc.score(X_test, y_test)\n",
        "\n",
        "print(f'Best Linear SVC Parameters: {grid_search_linear_svc.best_params_}')\n",
        "print(f'Training Accuracy: {train_accuracy_linear_svc}')\n",
        "print(f'Test Accuracy: {test_accuracy_linear_svc}')\n",
        "\n",
        "# Use a smaller subset of the training data for hyperparameter tuning to shorten the process\n",
        "X_train_subset, _, y_train_subset, _ = train_test_split(X_train, y_train, train_size=0.1, random_state=42, stratify=y_train)\n",
        "\n",
        "# Train a 4-class SVM using an RBF kernel\n",
        "rbf_svm = SVC(kernel='rbf', cache_size=1000)\n",
        "param_dist = {'C': [0.1, 1, 10], 'gamma': [0.001, 0.01, 0.1]}\n",
        "random_search = RandomizedSearchCV(rbf_svm, param_distributions=param_dist, n_iter=10, cv=3, random_state=42, n_jobs=-1, verbose=3)\n",
        "random_search.fit(X_train_subset, y_train_subset)\n",
        "best_rbf_svm = random_search.best_estimator_\n",
        "\n",
        "# Train the best model on the full training dataset\n",
        "best_rbf_svm.fit(X_train, y_train)\n",
        "\n",
        "# Evaluate the model\n",
        "train_accuracy_rbf = best_rbf_svm.score(X_train, y_train)\n",
        "test_accuracy_rbf = best_rbf_svm.score(X_test, y_test)\n",
        "\n",
        "print(f'Best RBF SVM Parameters: {random_search.best_params_}')\n",
        "print(f'Training Accuracy: {train_accuracy_rbf}')\n",
        "print(f'Test Accuracy: {test_accuracy_rbf}')"
      ],
      "metadata": {
        "colab": {
          "base_uri": "https://localhost:8080/"
        },
        "id": "8_B-dqOWn0ZT",
        "outputId": "0e96f779-b2d8-4c0a-fdc0-48a273773005"
      },
      "execution_count": null,
      "outputs": [
        {
          "output_type": "stream",
          "name": "stderr",
          "text": [
            "/usr/local/lib/python3.10/dist-packages/sklearn/datasets/_openml.py:968: FutureWarning: The default value of `parser` will change from `'liac-arff'` to `'auto'` in 1.4. You can set `parser='auto'` to silence this warning. Therefore, an `ImportError` will be raised from 1.4 if the dataset is dense and pandas is not installed. Note that the pandas parser may return different data types. See the Notes Section in fetch_openml's API doc for details.\n",
            "  warn(\n"
          ]
        },
        {
          "output_type": "stream",
          "name": "stdout",
          "text": [
            "Fitting 5 folds for each of 4 candidates, totalling 20 fits\n",
            "Best Linear SVC Parameters: {'C': 0.1}\n",
            "Training Accuracy: 0.9540996820563342\n",
            "Test Accuracy: 0.9364141142754792\n"
          ]
        },
        {
          "output_type": "stream",
          "name": "stderr",
          "text": [
            "/usr/local/lib/python3.10/dist-packages/sklearn/model_selection/_search.py:305: UserWarning: The total space of parameters 9 is smaller than n_iter=10. Running 9 iterations. For exhaustive searches, use GridSearchCV.\n",
            "  warnings.warn(\n"
          ]
        },
        {
          "output_type": "stream",
          "name": "stdout",
          "text": [
            "Fitting 3 folds for each of 9 candidates, totalling 27 fits\n",
            "Best RBF SVM Parameters: {'gamma': 0.01, 'C': 10}\n",
            "Training Accuracy: 0.9999552192020061\n",
            "Test Accuracy: 0.9892530897367007\n"
          ]
        }
      ]
    },
    {
      "cell_type": "code",
      "source": [
        "# Use the same dataset and model to create the support_vectors variable\n",
        "support_vectors = best_rbf_svm.support_\n",
        "support_vectors_indices = support_vectors\n",
        "\n",
        "# Plot some of the support vectors\n",
        "plt.figure(figsize=(10, 10))\n",
        "for i, index in enumerate(support_vectors_indices[:16]):\n",
        "    plt.subplot(4, 4, i + 1)\n",
        "    plt.imshow(X_train.iloc[index].to_numpy().reshape(28, 28), cmap='gray')\n",
        "    plt.axis('off')\n",
        "plt.show()\n",
        "# Discussion\n",
        "print(\"Discussion:\")\n",
        "print(\"Support vectors are examples from the training dataset that are closest to the decision boundary.\")\n",
        "print(\"They represent the most challenging instances for the classifier.\")\n",
        "print(\"In the visual inspection, support vectors appear similar to other images in the same class.\")\n",
        "print(\"However, they might have slightly different features that make them harder to classify.\")"
      ],
      "metadata": {
        "colab": {
          "base_uri": "https://localhost:8080/",
          "height": 891
        },
        "id": "610yOj4CpmUg",
        "outputId": "41dcfa37-a7d4-45c9-ad3b-2b9a8fbc72a6"
      },
      "execution_count": null,
      "outputs": [
        {
          "output_type": "display_data",
          "data": {
            "text/plain": [
              "<Figure size 1000x1000 with 16 Axes>"
            ],
            "image/png": "[encoded data removed]"
          },
          "metadata": {}
        },
        {
          "output_type": "stream",
          "name": "stdout",
          "text": [
            "Discussion:\n",
            "Support vectors are examples from the training dataset that are closest to the decision boundary.\n",
            "They represent the most challenging instances for the classifier.\n",
            "In the visual inspection, support vectors appear similar to other images in the same class.\n",
            "However, they might have slightly different features that make them harder to classify.\n"
          ]
        }
      ]
    }
  ]
}